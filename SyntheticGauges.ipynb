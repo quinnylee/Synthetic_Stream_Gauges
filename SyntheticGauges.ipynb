version https://git-lfs.github.com/spec/v1
oid sha256:b4ee3bee5ec4afbb5cc78a2602f4660727075495cf8c7e375796667c780539eb
size 124625
